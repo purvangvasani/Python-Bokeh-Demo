{
 "cells": [
  {
   "cell_type": "code",
   "execution_count": 1,
   "id": "69d9f532",
   "metadata": {},
   "outputs": [],
   "source": [
    "# Making a basic bokeh line graph\n",
    "\n",
    "# import required libraries\n",
    "from bokeh.plotting import figure\n",
    "from bokeh.io import output_file, show\n",
    "\n",
    "# prepare some data (Note: These list must have same length)\n",
    "x = [1,2,3,4,5]\n",
    "y = [6,7,8,9,10]\n",
    "\n",
    "# prepare the output file\n",
    "output_file('line.html')\n",
    "\n",
    "# create figure object\n",
    "f=figure()\n",
    "\n",
    "# create line plot\n",
    "f.line(x,y)\n",
    "\n",
    "# show your output\n",
    "show(f)"
   ]
  },
  {
   "cell_type": "code",
   "execution_count": 11,
   "id": "f5d5999f",
   "metadata": {},
   "outputs": [],
   "source": [
    "# Making a basic bokeh line graph\n",
    "\n",
    "# import required libraries\n",
    "import pandas as pd\n",
    "from bokeh.plotting import figure\n",
    "from bokeh.io import output_file, show\n",
    "\n",
    "# prepare some data (Note: These list must have same length)\n",
    "df = pd.read_csv('data.csv')\n",
    "x = df['x']\n",
    "y = df['y']\n",
    "\n",
    "# create figure object\n",
    "p=figure(plot_width=500,plot_height=400, tools='pan')\n",
    " \n",
    "# Apply Properties i.e Font, Text, Size\n",
    "p.title.text=\"Cool Data\"\n",
    "p.title.text_color=\"Gray\"\n",
    "p.title.text_font=\"times\"\n",
    "p.title.text_font_style=\"bold\"\n",
    "p.xaxis.minor_tick_line_color=None\n",
    "p.yaxis.minor_tick_line_color=None\n",
    "p.xaxis.axis_label=\"Date\"\n",
    "p.yaxis.axis_label=\"Intensity\"   \n",
    "\n",
    "# create line plot\n",
    "p.line(x,y)\n",
    "\n",
    "# prepare the output file\n",
    "output_file('line_csv.html')\n",
    "\n",
    "# show your output\n",
    "show(p)"
   ]
  },
  {
   "cell_type": "code",
   "execution_count": 9,
   "id": "bd9bf577",
   "metadata": {},
   "outputs": [],
   "source": [
    "# Making a basic bokeh line graph\n",
    "\n",
    "# import required libraries\n",
    "import pandas as pd\n",
    "from bokeh.plotting import figure\n",
    "from bokeh.io import output_file, show\n",
    "\n",
    "df = pd.read_csv('adbe.csv',parse_dates=[\"Date\"])\n",
    "\n",
    "p = figure(width=500, height=250,x_axis_type=\"datetime\")\n",
    "\n",
    "p.line(df['Date'], df['Close'], color=\"Orange\", alpha=0.5)\n",
    "\n",
    "output_file('Timeseries.html')\n",
    "\n",
    "show(p)"
   ]
  },
  {
   "cell_type": "code",
   "execution_count": null,
   "id": "f1ce107e",
   "metadata": {},
   "outputs": [],
   "source": []
  }
 ],
 "metadata": {
  "kernelspec": {
   "display_name": "Python 3",
   "language": "python",
   "name": "python3"
  },
  "language_info": {
   "codemirror_mode": {
    "name": "ipython",
    "version": 3
   },
   "file_extension": ".py",
   "mimetype": "text/x-python",
   "name": "python",
   "nbconvert_exporter": "python",
   "pygments_lexer": "ipython3",
   "version": "3.8.8"
  }
 },
 "nbformat": 4,
 "nbformat_minor": 5
}
